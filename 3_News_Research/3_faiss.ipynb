{
 "cells": [
  {
   "cell_type": "markdown",
   "metadata": {},
   "source": [
    "# FAISS (Facebook AI Similarity Search) \n",
    "\n",
    "It is a library developed by Facebook for efficient similarity search and clustering of dense vectors. In simple terms, it helps you quickly find items that are similar to each other in a large dataset.\n",
    "\n",
    "Imagine you have a huge collection of photos, and you want to find photos that look similar to a specific one. FAISS can help you do that by comparing the features of the photos and quickly identifying the ones that are most similar. It's like having a smart assistant that can quickly find things that are alike in a big pile of data."
   ]
  },
  {
   "cell_type": "code",
   "execution_count": 22,
   "metadata": {},
   "outputs": [
    {
     "name": "stdout",
     "output_type": "stream",
     "text": [
      "Requirement already satisfied: faiss-cpu in c:\\users\\user\\appdata\\local\\programs\\python\\python313\\lib\\site-packages (1.10.0)\n",
      "Requirement already satisfied: numpy<3.0,>=1.25.0 in c:\\users\\user\\appdata\\local\\programs\\python\\python313\\lib\\site-packages (from faiss-cpu) (1.26.4)\n",
      "Requirement already satisfied: packaging in c:\\users\\user\\appdata\\local\\programs\\python\\python313\\lib\\site-packages (from faiss-cpu) (24.2)\n",
      "Note: you may need to restart the kernel to use updated packages.\n",
      "Requirement already satisfied: sentence-transformers in c:\\users\\user\\appdata\\local\\programs\\python\\python313\\lib\\site-packages (3.4.1)\n",
      "Requirement already satisfied: transformers<5.0.0,>=4.41.0 in c:\\users\\user\\appdata\\local\\programs\\python\\python313\\lib\\site-packages (from sentence-transformers) (4.48.3)\n",
      "Requirement already satisfied: tqdm in c:\\users\\user\\appdata\\local\\programs\\python\\python313\\lib\\site-packages (from sentence-transformers) (4.67.1)\n",
      "Requirement already satisfied: torch>=1.11.0 in c:\\users\\user\\appdata\\local\\programs\\python\\python313\\lib\\site-packages (from sentence-transformers) (2.6.0)\n",
      "Requirement already satisfied: scikit-learn in c:\\users\\user\\appdata\\local\\programs\\python\\python313\\lib\\site-packages (from sentence-transformers) (1.6.1)\n",
      "Requirement already satisfied: scipy in c:\\users\\user\\appdata\\local\\programs\\python\\python313\\lib\\site-packages (from sentence-transformers) (1.15.2)\n",
      "Requirement already satisfied: huggingface-hub>=0.20.0 in c:\\users\\user\\appdata\\local\\programs\\python\\python313\\lib\\site-packages (from sentence-transformers) (0.28.1)\n",
      "Requirement already satisfied: Pillow in c:\\users\\user\\appdata\\local\\programs\\python\\python313\\lib\\site-packages (from sentence-transformers) (11.1.0)\n",
      "Requirement already satisfied: filelock in c:\\users\\user\\appdata\\local\\programs\\python\\python313\\lib\\site-packages (from huggingface-hub>=0.20.0->sentence-transformers) (3.17.0)\n",
      "Requirement already satisfied: fsspec>=2023.5.0 in c:\\users\\user\\appdata\\local\\programs\\python\\python313\\lib\\site-packages (from huggingface-hub>=0.20.0->sentence-transformers) (2024.12.0)\n",
      "Requirement already satisfied: packaging>=20.9 in c:\\users\\user\\appdata\\local\\programs\\python\\python313\\lib\\site-packages (from huggingface-hub>=0.20.0->sentence-transformers) (24.2)\n",
      "Requirement already satisfied: pyyaml>=5.1 in c:\\users\\user\\appdata\\local\\programs\\python\\python313\\lib\\site-packages (from huggingface-hub>=0.20.0->sentence-transformers) (6.0.2)\n",
      "Requirement already satisfied: requests in c:\\users\\user\\appdata\\local\\programs\\python\\python313\\lib\\site-packages (from huggingface-hub>=0.20.0->sentence-transformers) (2.32.3)\n",
      "Requirement already satisfied: typing-extensions>=3.7.4.3 in c:\\users\\user\\appdata\\local\\programs\\python\\python313\\lib\\site-packages (from huggingface-hub>=0.20.0->sentence-transformers) (4.12.2)\n",
      "Requirement already satisfied: networkx in c:\\users\\user\\appdata\\local\\programs\\python\\python313\\lib\\site-packages (from torch>=1.11.0->sentence-transformers) (3.4.2)\n",
      "Requirement already satisfied: jinja2 in c:\\users\\user\\appdata\\local\\programs\\python\\python313\\lib\\site-packages (from torch>=1.11.0->sentence-transformers) (3.1.5)\n",
      "Requirement already satisfied: setuptools in c:\\users\\user\\appdata\\local\\programs\\python\\python313\\lib\\site-packages (from torch>=1.11.0->sentence-transformers) (75.8.0)\n",
      "Requirement already satisfied: sympy==1.13.1 in c:\\users\\user\\appdata\\local\\programs\\python\\python313\\lib\\site-packages (from torch>=1.11.0->sentence-transformers) (1.13.1)\n",
      "Requirement already satisfied: mpmath<1.4,>=1.1.0 in c:\\users\\user\\appdata\\local\\programs\\python\\python313\\lib\\site-packages (from sympy==1.13.1->torch>=1.11.0->sentence-transformers) (1.3.0)\n",
      "Requirement already satisfied: colorama in c:\\users\\user\\appdata\\local\\programs\\python\\python313\\lib\\site-packages (from tqdm->sentence-transformers) (0.4.6)\n",
      "Requirement already satisfied: numpy>=1.17 in c:\\users\\user\\appdata\\local\\programs\\python\\python313\\lib\\site-packages (from transformers<5.0.0,>=4.41.0->sentence-transformers) (1.26.4)\n",
      "Requirement already satisfied: regex!=2019.12.17 in c:\\users\\user\\appdata\\local\\programs\\python\\python313\\lib\\site-packages (from transformers<5.0.0,>=4.41.0->sentence-transformers) (2024.11.6)\n",
      "Requirement already satisfied: tokenizers<0.22,>=0.21 in c:\\users\\user\\appdata\\local\\programs\\python\\python313\\lib\\site-packages (from transformers<5.0.0,>=4.41.0->sentence-transformers) (0.21.0)\n",
      "Requirement already satisfied: safetensors>=0.4.1 in c:\\users\\user\\appdata\\local\\programs\\python\\python313\\lib\\site-packages (from transformers<5.0.0,>=4.41.0->sentence-transformers) (0.5.2)\n",
      "Requirement already satisfied: joblib>=1.2.0 in c:\\users\\user\\appdata\\local\\programs\\python\\python313\\lib\\site-packages (from scikit-learn->sentence-transformers) (1.4.2)\n",
      "Requirement already satisfied: threadpoolctl>=3.1.0 in c:\\users\\user\\appdata\\local\\programs\\python\\python313\\lib\\site-packages (from scikit-learn->sentence-transformers) (3.5.0)\n",
      "Requirement already satisfied: MarkupSafe>=2.0 in c:\\users\\user\\appdata\\local\\programs\\python\\python313\\lib\\site-packages (from jinja2->torch>=1.11.0->sentence-transformers) (3.0.2)\n",
      "Requirement already satisfied: charset-normalizer<4,>=2 in c:\\users\\user\\appdata\\local\\programs\\python\\python313\\lib\\site-packages (from requests->huggingface-hub>=0.20.0->sentence-transformers) (3.4.1)\n",
      "Requirement already satisfied: idna<4,>=2.5 in c:\\users\\user\\appdata\\local\\programs\\python\\python313\\lib\\site-packages (from requests->huggingface-hub>=0.20.0->sentence-transformers) (3.10)\n",
      "Requirement already satisfied: urllib3<3,>=1.21.1 in c:\\users\\user\\appdata\\local\\programs\\python\\python313\\lib\\site-packages (from requests->huggingface-hub>=0.20.0->sentence-transformers) (2.3.0)\n",
      "Requirement already satisfied: certifi>=2017.4.17 in c:\\users\\user\\appdata\\local\\programs\\python\\python313\\lib\\site-packages (from requests->huggingface-hub>=0.20.0->sentence-transformers) (2024.12.14)\n",
      "Note: you may need to restart the kernel to use updated packages.\n"
     ]
    }
   ],
   "source": [
    "# Install the FAISS library for CPU (Facebook AI Similarity Search)\n",
    "# This library is used for efficient similarity search and clustering of dense vectors\n",
    "%pip install faiss-cpu\n",
    "\n",
    "# Install the Sentence-Transformers library\n",
    "# This library provides pre-trained models for converting sentences into dense vectors\n",
    "# These vectors can then be used for tasks like similarity search\n",
    "%pip install sentence-transformers"
   ]
  },
  {
   "cell_type": "code",
   "execution_count": 23,
   "metadata": {},
   "outputs": [],
   "source": [
    "# import necessary libraries\n",
    "import pandas as pd\n",
    "pd.set_option('display.max_colwidth', 100)"
   ]
  },
  {
   "cell_type": "code",
   "execution_count": 24,
   "metadata": {},
   "outputs": [],
   "source": [
    "# import necessary libraries\n",
    "import pandas as pd\n",
    "pd.set_option('display.max_colwidth', 100)"
   ]
  },
  {
   "cell_type": "code",
   "execution_count": 25,
   "metadata": {},
   "outputs": [
    {
     "data": {
      "text/plain": [
       "(8, 2)"
      ]
     },
     "execution_count": 25,
     "metadata": {},
     "output_type": "execute_result"
    }
   ],
   "source": [
    "df = pd.read_csv(\"sample_text.csv\")\n",
    "df.shape"
   ]
  },
  {
   "cell_type": "code",
   "execution_count": 26,
   "metadata": {},
   "outputs": [
    {
     "data": {
      "text/html": [
       "<div>\n",
       "<style scoped>\n",
       "    .dataframe tbody tr th:only-of-type {\n",
       "        vertical-align: middle;\n",
       "    }\n",
       "\n",
       "    .dataframe tbody tr th {\n",
       "        vertical-align: top;\n",
       "    }\n",
       "\n",
       "    .dataframe thead th {\n",
       "        text-align: right;\n",
       "    }\n",
       "</style>\n",
       "<table border=\"1\" class=\"dataframe\">\n",
       "  <thead>\n",
       "    <tr style=\"text-align: right;\">\n",
       "      <th></th>\n",
       "      <th>text</th>\n",
       "      <th>category</th>\n",
       "    </tr>\n",
       "  </thead>\n",
       "  <tbody>\n",
       "    <tr>\n",
       "      <th>0</th>\n",
       "      <td>Meditation and yoga can improve mental health</td>\n",
       "      <td>Health</td>\n",
       "    </tr>\n",
       "    <tr>\n",
       "      <th>1</th>\n",
       "      <td>Fruits, whole grains and vegetables helps control blood pressure</td>\n",
       "      <td>Health</td>\n",
       "    </tr>\n",
       "    <tr>\n",
       "      <th>2</th>\n",
       "      <td>These are the latest fashion trends for this week</td>\n",
       "      <td>Fashion</td>\n",
       "    </tr>\n",
       "    <tr>\n",
       "      <th>3</th>\n",
       "      <td>Vibrant color jeans for male are becoming a trend</td>\n",
       "      <td>Fashion</td>\n",
       "    </tr>\n",
       "    <tr>\n",
       "      <th>4</th>\n",
       "      <td>The concert starts at 7 PM tonight</td>\n",
       "      <td>Event</td>\n",
       "    </tr>\n",
       "    <tr>\n",
       "      <th>5</th>\n",
       "      <td>Navaratri dandiya program at Expo center in Mumbai this october</td>\n",
       "      <td>Event</td>\n",
       "    </tr>\n",
       "    <tr>\n",
       "      <th>6</th>\n",
       "      <td>Exciting vacation destinations for your next trip</td>\n",
       "      <td>Travel</td>\n",
       "    </tr>\n",
       "    <tr>\n",
       "      <th>7</th>\n",
       "      <td>Maldives and Srilanka are gaining popularity in terms of low budget vacation places</td>\n",
       "      <td>Travel</td>\n",
       "    </tr>\n",
       "  </tbody>\n",
       "</table>\n",
       "</div>"
      ],
      "text/plain": [
       "                                                                                  text  \\\n",
       "0                                        Meditation and yoga can improve mental health   \n",
       "1                     Fruits, whole grains and vegetables helps control blood pressure   \n",
       "2                                    These are the latest fashion trends for this week   \n",
       "3                                    Vibrant color jeans for male are becoming a trend   \n",
       "4                                                   The concert starts at 7 PM tonight   \n",
       "5                      Navaratri dandiya program at Expo center in Mumbai this october   \n",
       "6                                    Exciting vacation destinations for your next trip   \n",
       "7  Maldives and Srilanka are gaining popularity in terms of low budget vacation places   \n",
       "\n",
       "  category  \n",
       "0   Health  \n",
       "1   Health  \n",
       "2  Fashion  \n",
       "3  Fashion  \n",
       "4    Event  \n",
       "5    Event  \n",
       "6   Travel  \n",
       "7   Travel  "
      ]
     },
     "execution_count": 26,
     "metadata": {},
     "output_type": "execute_result"
    }
   ],
   "source": [
    "df"
   ]
  },
  {
   "cell_type": "markdown",
   "metadata": {},
   "source": [
    "# Step 1 : Create source embeddings for the text column"
   ]
  },
  {
   "cell_type": "code",
   "execution_count": 27,
   "metadata": {},
   "outputs": [],
   "source": [
    "from sentence_transformers import SentenceTransformer"
   ]
  },
  {
   "cell_type": "code",
   "execution_count": 28,
   "metadata": {},
   "outputs": [],
   "source": [
    "encoder = SentenceTransformer(\"all-mpnet-base-v2\")\n",
    "vectors = encoder.encode(df.text)"
   ]
  },
  {
   "cell_type": "code",
   "execution_count": 29,
   "metadata": {},
   "outputs": [
    {
     "data": {
      "text/plain": [
       "(8, 768)"
      ]
     },
     "execution_count": 29,
     "metadata": {},
     "output_type": "execute_result"
    }
   ],
   "source": [
    "vectors.shape"
   ]
  },
  {
   "cell_type": "code",
   "execution_count": 30,
   "metadata": {},
   "outputs": [
    {
     "data": {
      "text/plain": [
       "768"
      ]
     },
     "execution_count": 30,
     "metadata": {},
     "output_type": "execute_result"
    }
   ],
   "source": [
    "vectors.shape[1]"
   ]
  },
  {
   "cell_type": "code",
   "execution_count": 31,
   "metadata": {},
   "outputs": [
    {
     "data": {
      "text/plain": [
       "array([-3.35726663e-02,  9.80516616e-03, -3.25012915e-02,  1.86820552e-02,\n",
       "        1.77040920e-02, -3.62627096e-02, -3.62390541e-02,  7.10840076e-02,\n",
       "        2.47629788e-02,  2.63498593e-02, -1.21443206e-03, -1.13375476e-02,\n",
       "       -1.15268650e-02,  1.43791335e-02, -4.38231789e-02, -2.79519018e-02,\n",
       "        1.75678618e-02, -4.70076315e-03,  8.76717716e-02,  4.92516265e-04,\n",
       "       -4.46608923e-02, -3.32105868e-02, -1.42118577e-02,  2.29377411e-02,\n",
       "       -8.52665491e-03, -2.48491648e-03,  8.57958850e-03,  2.66635101e-02,\n",
       "        2.85466053e-02, -2.94707753e-02, -4.25882787e-02,  1.92414727e-02,\n",
       "       -2.21508741e-02, -5.22682518e-02,  9.17419413e-07, -2.53168028e-02,\n",
       "       -5.45516051e-02,  6.14561178e-02, -1.15586128e-02,  1.64797101e-02,\n",
       "        6.11980737e-04, -6.41633272e-02, -2.64592692e-02,  2.86634415e-02,\n",
       "       -7.40527408e-03, -3.89426798e-02, -8.28326796e-04,  1.00291803e-01,\n",
       "       -6.97314832e-03,  2.48221084e-02,  1.85312573e-02, -5.47105353e-03,\n",
       "        2.40095705e-02, -1.84511933e-02,  4.09858376e-02, -2.26923004e-02,\n",
       "        2.95915361e-02,  1.59889981e-02,  2.98418067e-02,  6.38909042e-02,\n",
       "        2.58491840e-02, -3.26031148e-02, -8.26751068e-03,  5.34260385e-02,\n",
       "       -4.43783216e-02, -9.29066446e-03, -2.35451721e-02, -6.82238191e-02,\n",
       "        1.14495605e-02,  4.07651663e-02, -4.92770076e-02,  2.56419182e-02,\n",
       "        7.01446608e-02, -3.31850834e-02,  1.11843357e-02, -2.03785934e-02,\n",
       "        8.65226332e-03, -1.02374293e-02, -3.91494595e-02, -4.53189388e-03,\n",
       "        6.19240925e-02, -1.92384124e-02, -7.00167241e-03, -3.73339206e-02,\n",
       "        2.08827741e-02, -3.45133990e-03,  1.20091122e-02,  8.63273349e-03,\n",
       "        2.55906340e-02, -7.73530221e-04, -2.50836946e-02, -1.45643493e-02,\n",
       "        2.38880925e-02, -1.44668175e-02,  4.12996821e-02, -1.22156488e-02,\n",
       "        2.48460788e-02, -1.27601030e-03,  7.00055296e-03, -6.49261624e-02,\n",
       "        2.03953478e-02,  6.89088330e-02,  1.03071649e-02, -7.91797321e-03,\n",
       "       -9.52257030e-03, -2.54793931e-02, -2.35272236e-02,  4.67379764e-02,\n",
       "        3.67013849e-02,  1.30289430e-02, -2.51294374e-02, -3.32414568e-03,\n",
       "       -4.83352616e-02, -1.34264687e-02,  5.17110266e-02,  8.55914690e-03,\n",
       "       -1.43931787e-02, -3.62586156e-02, -2.90623326e-02, -2.76030563e-02,\n",
       "       -2.99808998e-02, -2.20756754e-02,  4.96576168e-02, -3.21929157e-02,\n",
       "       -9.27776005e-03,  1.07672416e-01,  6.93937531e-03, -2.09447667e-02,\n",
       "       -1.50243342e-02, -7.78927701e-03, -4.06216038e-03, -9.77017451e-03,\n",
       "        1.80494357e-02,  3.87828462e-02,  6.88608363e-02, -1.21669341e-02,\n",
       "        1.63725950e-02,  2.72274911e-02, -1.64841578e-04, -5.20297252e-02,\n",
       "        5.57820452e-03,  6.28697947e-02,  4.01385166e-02,  2.15966590e-02,\n",
       "        1.60552841e-02, -6.71956986e-02,  6.08031042e-02,  2.02236790e-02,\n",
       "       -1.00795515e-02,  3.07943448e-02, -5.42099848e-02, -2.35007182e-02,\n",
       "        6.47095889e-02,  4.73307557e-02, -1.16421487e-02,  1.20285628e-02,\n",
       "       -1.03540218e-03,  8.15600739e-04,  3.34849432e-02, -3.34856496e-03,\n",
       "       -1.36474473e-02,  1.85881183e-02,  6.27342495e-04,  2.10220031e-02,\n",
       "        2.19755247e-02, -6.37722611e-02, -4.20540534e-02,  1.11972187e-02,\n",
       "        2.76469309e-02, -2.06915662e-02,  1.17304120e-02,  1.21852597e-02,\n",
       "       -2.80875480e-03,  3.82284704e-03,  4.42133918e-02,  2.25190911e-03,\n",
       "        1.64213199e-02,  4.04512994e-02, -1.79601572e-02, -7.82542974e-02,\n",
       "        5.79525530e-02,  1.68867949e-02, -1.76530294e-02,  4.30391245e-02,\n",
       "       -1.27998032e-02,  7.48297349e-02, -8.10292959e-02, -6.17437437e-03,\n",
       "       -2.06081048e-02,  1.14898598e-02, -2.12890226e-02,  1.01898918e-02,\n",
       "       -4.45469283e-04, -5.92543930e-02,  1.08466409e-02,  2.14393940e-02,\n",
       "       -4.67458973e-03,  5.09268185e-03,  2.59107761e-02, -1.23139727e-03,\n",
       "        3.46984938e-02,  4.84393425e-02,  4.25066391e-04, -5.86432368e-02,\n",
       "       -1.03664482e-02, -1.32833561e-02,  5.68065755e-02, -2.38216743e-02,\n",
       "        6.42867833e-02,  1.16543518e-03, -8.26224592e-03, -2.17431355e-02,\n",
       "        2.42560096e-02, -1.78288706e-02,  2.32253894e-02,  1.09581873e-02,\n",
       "       -2.69017909e-02,  1.30435713e-02, -1.92239061e-02, -4.67372723e-02,\n",
       "       -1.19906282e-02,  6.35159528e-03, -3.37473303e-02, -1.60462372e-02,\n",
       "       -2.21640505e-02,  3.27046067e-02,  1.85039751e-02,  1.92523226e-02,\n",
       "       -1.62674375e-02, -3.93539555e-02,  1.11165177e-03,  5.33456579e-02,\n",
       "       -2.80958973e-02,  3.41475382e-02,  2.11111922e-02, -1.97416414e-02,\n",
       "        3.02266646e-02,  2.78305560e-02, -1.52912755e-02,  1.05081787e-02,\n",
       "       -2.53358446e-02, -1.49587132e-02, -1.86073054e-02, -1.70139445e-03,\n",
       "       -6.39693066e-02,  1.89983565e-02,  6.96385186e-03,  2.15709787e-02,\n",
       "       -8.01059008e-02,  3.16440836e-02,  6.58222148e-03,  2.29354948e-02,\n",
       "       -6.36438727e-02,  4.40608971e-02, -4.14929688e-02,  2.03897636e-02,\n",
       "       -4.32550833e-02, -7.20878132e-03,  5.76045327e-02,  4.60607633e-02,\n",
       "        1.07086543e-02, -1.04497531e-02,  1.93595644e-02,  3.72252576e-02,\n",
       "        3.87211703e-02, -1.61042456e-02, -1.93750467e-02, -1.58329010e-02,\n",
       "       -2.59765908e-02, -3.51573452e-02, -1.05289640e-02,  5.26708225e-03,\n",
       "        5.22579364e-02,  2.88645718e-02, -3.21052559e-02, -2.01181639e-02,\n",
       "        6.11136407e-02,  2.03792937e-02,  4.92633432e-02, -2.09874902e-02,\n",
       "       -1.23223392e-02,  8.61940980e-02,  7.55283162e-02,  5.98212630e-02,\n",
       "        5.40041663e-02,  2.02714629e-03, -2.26158537e-02,  1.46395424e-02,\n",
       "        1.10510588e-01, -4.29654755e-02,  3.88653092e-02,  1.33245848e-02,\n",
       "        1.54907033e-02,  5.04894890e-02, -3.91640812e-02,  6.13815524e-02,\n",
       "        5.43447845e-02, -3.36848907e-02,  1.85183659e-02, -1.10968493e-01,\n",
       "       -2.50394158e-02, -3.84914200e-03,  4.61405404e-02,  1.21499449e-02,\n",
       "       -1.56652760e-02,  3.85173000e-02,  1.91747472e-02,  3.39069180e-02,\n",
       "       -2.96352897e-02,  4.14793938e-02,  2.15318296e-02,  2.93096825e-02,\n",
       "        1.71868224e-02, -3.59830074e-02,  2.18271147e-02,  4.28997427e-02,\n",
       "       -5.75206168e-02, -1.92242973e-02,  2.12443788e-02,  2.04701442e-03,\n",
       "       -5.68156550e-03,  2.48145778e-02, -3.16320732e-02, -4.43523042e-02,\n",
       "        2.27882694e-02, -3.34343844e-04,  8.58252682e-03, -4.02721539e-02,\n",
       "       -3.79483849e-02, -4.34353203e-02,  1.28196541e-03,  2.07371470e-02,\n",
       "        7.17612579e-02,  1.84786564e-03,  3.51873375e-02,  8.62417370e-03,\n",
       "        1.60184745e-02,  5.75457029e-02, -1.25773894e-02,  1.02894325e-02,\n",
       "       -1.69318337e-02, -9.37231034e-02, -3.49837504e-02, -2.44941916e-02,\n",
       "        1.23327570e-02,  1.46686118e-02,  4.08049636e-02,  2.50646309e-03,\n",
       "        5.45818880e-02,  2.91737579e-02, -5.39824460e-03, -2.85476893e-02,\n",
       "       -2.34895796e-02, -1.07573846e-03,  4.24938364e-04, -6.98285773e-02,\n",
       "        1.25891929e-02, -3.92429577e-03, -4.81126383e-02,  1.90332700e-02,\n",
       "        6.65119616e-03, -3.88482376e-03, -1.05893537e-02, -5.17403893e-02,\n",
       "        5.32847755e-02, -8.30340199e-03, -8.85998306e-04, -9.18878801e-03,\n",
       "       -7.28048058e-03,  5.55171678e-03, -1.56909823e-02,  3.09270360e-02,\n",
       "       -4.40982506e-02,  1.02479849e-02,  1.52976597e-02, -1.30980425e-02,\n",
       "        2.13123858e-02, -6.71373680e-02, -1.81569997e-02,  3.22471596e-02,\n",
       "        2.95263622e-02,  5.68894204e-03,  2.05119606e-02,  6.43817382e-03,\n",
       "       -2.22543012e-02,  2.13127062e-02,  3.21274810e-02, -6.24837056e-02,\n",
       "        1.68939177e-02, -6.13405481e-02,  1.47031303e-02, -1.53158288e-02,\n",
       "       -1.03147444e-03, -2.83481348e-02, -2.39032898e-02, -1.70184914e-02,\n",
       "        1.88787151e-02, -7.34044686e-02, -5.25554530e-02,  1.53818401e-02,\n",
       "        1.30274016e-02, -3.96440811e-02,  5.24451695e-02, -2.49939635e-02,\n",
       "        2.74956208e-02,  3.60509492e-02,  5.73946908e-02,  2.25475151e-02,\n",
       "        3.25942487e-02,  8.90982058e-03,  5.43262884e-02,  2.10294612e-02,\n",
       "        2.16910932e-02, -3.01538780e-02,  2.19045579e-03,  3.80707085e-02,\n",
       "        4.07610647e-02,  7.83905014e-02,  5.29225692e-02, -4.02740054e-02,\n",
       "       -7.14953691e-02,  5.61716296e-02, -5.62878512e-02,  4.30115461e-02,\n",
       "       -1.81321409e-02, -7.10930210e-03,  5.61597236e-02, -1.29608763e-02,\n",
       "       -6.05658703e-02,  1.40672792e-02,  4.54457477e-02,  3.30817178e-02,\n",
       "       -4.44653211e-03, -1.04194514e-01,  6.20513186e-02, -8.04488081e-03,\n",
       "        2.53955517e-02, -5.35988510e-02, -2.87728687e-03,  5.55383340e-02,\n",
       "       -4.69397847e-03,  3.03411689e-02,  3.86409611e-02, -3.07782236e-02,\n",
       "        3.70678455e-02,  7.07896128e-02,  1.62174199e-02,  1.07857995e-01,\n",
       "       -4.73799221e-02, -1.05365207e-02, -9.48566105e-03,  5.85110970e-02,\n",
       "        2.26293858e-02, -5.49652090e-04, -3.41104530e-02, -8.44270084e-03,\n",
       "        2.09487230e-02, -2.25967914e-02,  7.02017397e-02, -1.75866839e-02,\n",
       "        4.84230965e-02,  3.07200127e-03,  4.45458852e-02,  2.11489592e-02,\n",
       "        5.86260576e-03, -2.15045810e-02, -1.92374997e-02,  2.49662325e-02,\n",
       "        7.70039298e-03, -5.85462600e-02, -4.48389212e-03,  2.40318719e-02,\n",
       "       -2.65539251e-03, -1.13359587e-02,  5.13386913e-02, -6.58839336e-03,\n",
       "       -4.52473946e-02,  2.38738731e-02, -6.40834644e-02,  4.75434307e-03,\n",
       "       -3.28242220e-02,  1.94962062e-02, -5.79628069e-03, -6.90021664e-02,\n",
       "       -1.13663226e-02,  3.52125056e-02, -6.56304061e-02, -1.65679362e-02,\n",
       "        1.50974793e-02,  7.77235180e-02, -4.23436426e-02,  7.64400000e-03,\n",
       "        1.68971233e-02, -6.57749772e-02, -1.03674056e-02, -1.54937338e-02,\n",
       "       -6.73221946e-02, -1.95327122e-02, -2.35322788e-02,  2.75447350e-02,\n",
       "       -5.01310527e-02, -2.43231729e-02,  4.12269458e-02,  5.34090176e-02,\n",
       "        1.23127727e-02,  1.25193270e-02, -1.95430312e-02,  4.38057929e-02,\n",
       "        2.56417803e-02, -1.93018075e-02, -5.73117025e-02, -2.95280926e-02,\n",
       "       -1.08611919e-01,  1.43510923e-02,  3.20817605e-02,  9.96926725e-02,\n",
       "        6.22827150e-02,  1.15522258e-02, -1.72614511e-02, -2.42948718e-02,\n",
       "       -7.28655141e-03, -2.44392082e-02,  1.16017805e-02,  4.81275059e-02,\n",
       "        4.65669786e-04,  4.60677519e-02, -2.64352132e-02,  2.17286334e-03,\n",
       "       -3.03758830e-02,  3.96300778e-02, -1.91513170e-02, -2.66074017e-02,\n",
       "        5.60492277e-02, -5.37889712e-02, -8.28453805e-03,  2.28181761e-02,\n",
       "       -1.35339834e-02,  5.61505221e-02, -5.94899990e-03,  1.97245367e-02,\n",
       "        2.47830618e-03, -2.38718372e-02,  4.05481383e-02,  4.94958982e-02,\n",
       "        3.03312391e-02, -4.49723825e-02, -8.13962892e-02, -7.77645735e-03,\n",
       "       -4.09913212e-02, -9.98647325e-03,  2.02551764e-02,  9.42011457e-03,\n",
       "       -1.03325553e-01,  1.56904440e-02, -7.34913629e-03, -4.28104059e-33,\n",
       "        1.84910838e-03,  2.49898620e-02,  4.30825651e-02, -1.80864334e-03,\n",
       "        1.06527090e-01,  5.75298816e-02,  2.23686802e-03, -8.82529467e-03,\n",
       "       -2.76356768e-02,  4.49949354e-02, -7.76132718e-02, -4.94545065e-02,\n",
       "        4.29597171e-03, -6.67970404e-02, -1.07111307e-02, -3.80071141e-02,\n",
       "        2.97373300e-03,  1.90953945e-03, -2.09461395e-02, -3.26111652e-02,\n",
       "       -6.88911378e-02,  3.32695954e-02, -4.44098301e-02,  7.68893212e-02,\n",
       "        1.98381897e-02,  4.43437994e-02,  1.16208810e-02, -3.89212905e-03,\n",
       "       -8.83538090e-03,  3.02967057e-02,  2.04689745e-02, -2.44666380e-03,\n",
       "        7.54137896e-03, -1.81705561e-02, -1.13567431e-02,  2.20166463e-02,\n",
       "       -3.76540050e-02,  7.88016617e-03, -2.76773283e-03, -4.65983488e-02,\n",
       "       -2.39177868e-02,  4.27090041e-02,  1.27477944e-02, -3.49138607e-03,\n",
       "       -1.73229992e-03,  5.32658247e-04,  1.37986271e-02, -5.88246733e-02,\n",
       "       -2.32382715e-02, -8.74419231e-03, -1.77631732e-02, -1.31566171e-02,\n",
       "        3.03805508e-02,  4.22015972e-02, -6.73779566e-03,  1.11840479e-02,\n",
       "       -8.27113539e-03, -3.78280357e-02, -1.24693830e-02, -4.14637774e-02,\n",
       "       -1.26117608e-03,  4.64669019e-02, -7.82364607e-02,  2.05411445e-02,\n",
       "       -7.02479202e-03, -1.06606074e-02, -4.50239107e-02, -4.22419049e-02,\n",
       "       -2.15089996e-03, -2.40541268e-02, -4.69920002e-02, -6.05254211e-02,\n",
       "        5.82413524e-02,  2.95025595e-02, -7.44167110e-03, -1.00766264e-01,\n",
       "       -3.92184258e-02,  3.07859723e-02,  4.28369641e-03, -7.42603540e-02,\n",
       "       -5.22071905e-02, -3.43485363e-03,  3.15367468e-02,  3.49472947e-02,\n",
       "       -6.93785958e-03,  7.32733868e-03, -3.23810354e-02, -1.72193255e-02,\n",
       "       -3.54516022e-02, -1.90521460e-02,  2.62782071e-02,  1.63123738e-02,\n",
       "        4.35291901e-02,  1.06643587e-02, -2.23602802e-02,  3.37390229e-02,\n",
       "       -6.16686000e-03, -8.26238468e-02,  2.66043041e-02, -8.35099444e-03,\n",
       "       -1.83438063e-02,  2.00077007e-03,  5.02547026e-02,  3.45277749e-02,\n",
       "       -3.72372903e-02,  2.92173531e-02,  1.72078703e-03, -1.58034861e-02,\n",
       "        1.14710433e-02, -1.25145102e-02, -4.20716293e-02,  4.86483984e-02,\n",
       "        2.28662807e-02, -4.68053995e-03, -4.26828749e-02, -1.28418421e-02,\n",
       "        7.45492876e-02,  3.06698587e-02,  1.45302359e-02, -6.23451211e-02,\n",
       "       -1.26675256e-02,  3.36178914e-02,  6.05069064e-02, -3.02765332e-02,\n",
       "       -3.71763296e-02, -4.64073382e-02,  8.39665532e-02,  9.42518841e-03,\n",
       "       -3.21014039e-02,  8.08136445e-03,  5.02914898e-02,  1.75023545e-02,\n",
       "        1.57571620e-07, -1.98555104e-02, -2.83060558e-02,  2.90523414e-02,\n",
       "       -3.78218666e-02, -5.00641987e-02,  4.02770564e-03, -1.18794544e-02,\n",
       "       -1.46823740e-02,  1.81088820e-02,  2.68274751e-02,  9.23957396e-03,\n",
       "       -2.70949081e-02,  2.32507242e-03, -1.62717197e-02,  3.18160616e-02,\n",
       "       -3.51314209e-02, -2.04745140e-02, -4.17290032e-02,  1.66735705e-02,\n",
       "       -3.71345878e-02,  4.71012890e-02,  1.73170567e-02, -5.56523018e-02,\n",
       "       -4.02242318e-02, -5.00142872e-02,  4.97485548e-02, -1.61511060e-02,\n",
       "       -6.62220409e-03, -4.74095494e-02, -3.85605469e-02,  1.55845080e-02,\n",
       "        4.09966521e-03,  1.63189564e-02, -3.17491926e-02, -6.53793588e-02,\n",
       "       -2.32729707e-02, -2.41439864e-02, -2.17097085e-02, -4.34638113e-02,\n",
       "        5.88004664e-02,  8.67544767e-03,  5.04563786e-02, -1.48966881e-02,\n",
       "       -3.00931651e-02, -4.45600087e-03, -4.09635119e-02, -4.19239141e-02,\n",
       "       -4.22752798e-02,  1.00178510e-01, -2.62382384e-02, -3.23654595e-03,\n",
       "        3.29557918e-02, -3.81873292e-03, -1.64519530e-02, -3.44151184e-02,\n",
       "        2.69218422e-02, -3.18483189e-02,  5.79115050e-03,  5.21225259e-02,\n",
       "       -5.56408651e-02,  2.18992010e-02,  1.57099180e-02,  7.62981037e-03,\n",
       "       -1.67025719e-02, -6.40239893e-03,  4.05184701e-02, -4.84588370e-02,\n",
       "        1.24100314e-34, -3.20823379e-02, -5.96444421e-02, -1.55760581e-02,\n",
       "       -5.08973375e-02,  1.69497952e-02,  6.91904314e-03,  8.61431099e-03,\n",
       "        6.02010228e-02, -5.16546667e-02,  2.24588644e-02, -3.15618217e-02],\n",
       "      dtype=float32)"
      ]
     },
     "execution_count": 31,
     "metadata": {},
     "output_type": "execute_result"
    }
   ],
   "source": [
    "vectors[1]"
   ]
  },
  {
   "cell_type": "code",
   "execution_count": 32,
   "metadata": {},
   "outputs": [
    {
     "data": {
      "text/plain": [
       "array([[-0.00247395,  0.03626721, -0.05290459, ..., -0.09152356,\n",
       "        -0.03970002, -0.04330488],\n",
       "       [-0.03357267,  0.00980517, -0.03250129, ..., -0.05165467,\n",
       "         0.02245886, -0.03156182],\n",
       "       [-0.01865323, -0.04051314, -0.01235387, ...,  0.00610585,\n",
       "        -0.07179647,  0.02773853],\n",
       "       ...,\n",
       "       [-0.00066458,  0.04252125, -0.05645508, ...,  0.01315471,\n",
       "        -0.03183568, -0.04357664],\n",
       "       [-0.03317154,  0.03252455, -0.02484838, ...,  0.01174421,\n",
       "         0.05747123,  0.00571021],\n",
       "       [-0.00166395,  0.00413827, -0.04597082, ...,  0.02008527,\n",
       "         0.05656242, -0.00161595]], dtype=float32)"
      ]
     },
     "execution_count": 32,
     "metadata": {},
     "output_type": "execute_result"
    }
   ],
   "source": [
    "vectors"
   ]
  },
  {
   "cell_type": "code",
   "execution_count": 33,
   "metadata": {},
   "outputs": [
    {
     "data": {
      "text/plain": [
       "768"
      ]
     },
     "execution_count": 33,
     "metadata": {},
     "output_type": "execute_result"
    }
   ],
   "source": [
    "dim = vectors.shape[1]\n",
    "dim"
   ]
  },
  {
   "cell_type": "markdown",
   "metadata": {},
   "source": [
    "# Step 2 : Build a FAISS Index for vectors"
   ]
  },
  {
   "cell_type": "code",
   "execution_count": 34,
   "metadata": {},
   "outputs": [],
   "source": [
    "import faiss\n",
    "\n",
    "index = faiss.IndexFlatL2(dim)"
   ]
  },
  {
   "cell_type": "markdown",
   "metadata": {},
   "source": [
    "# Step 3 : Normalize the source vectors (as we are using L2 distance to measure similarity) and add to the index"
   ]
  },
  {
   "cell_type": "code",
   "execution_count": 35,
   "metadata": {},
   "outputs": [],
   "source": [
    "index.add(vectors)"
   ]
  },
  {
   "cell_type": "code",
   "execution_count": 36,
   "metadata": {},
   "outputs": [
    {
     "data": {
      "text/plain": [
       "<faiss.swigfaiss_avx2.IndexFlatL2; proxy of <Swig Object of type 'faiss::IndexFlatL2 *' at 0x000002AEDFA53CF0> >"
      ]
     },
     "execution_count": 36,
     "metadata": {},
     "output_type": "execute_result"
    }
   ],
   "source": [
    "index"
   ]
  },
  {
   "cell_type": "markdown",
   "metadata": {},
   "source": [
    "# Step 4 : Encode search text using same encorder and normalize the output vector"
   ]
  },
  {
   "cell_type": "code",
   "execution_count": 37,
   "metadata": {},
   "outputs": [
    {
     "data": {
      "text/plain": [
       "(768,)"
      ]
     },
     "execution_count": 37,
     "metadata": {},
     "output_type": "execute_result"
    }
   ],
   "source": [
    "search_query = \"I want to buy a polo t-shirt\"\n",
    "# search_query = \"looking for places to visit during the holidays\"\n",
    "# search_query = \"An apple a day keeps the doctor away\"\n",
    "vec = encoder.encode(search_query)\n",
    "vec.shape"
   ]
  },
  {
   "cell_type": "code",
   "execution_count": 38,
   "metadata": {},
   "outputs": [
    {
     "data": {
      "text/plain": [
       "(1, 768)"
      ]
     },
     "execution_count": 38,
     "metadata": {},
     "output_type": "execute_result"
    }
   ],
   "source": [
    "import numpy as np\n",
    "svec = np.array(vec).reshape(1,-1)\n",
    "svec.shape"
   ]
  },
  {
   "cell_type": "markdown",
   "metadata": {},
   "source": [
    "# Step 5: Search for similar vector in the FAISS index created"
   ]
  },
  {
   "cell_type": "code",
   "execution_count": 42,
   "metadata": {},
   "outputs": [
    {
     "data": {
      "text/plain": [
       "array([[1.3844836, 1.4039094]], dtype=float32)"
      ]
     },
     "execution_count": 42,
     "metadata": {},
     "output_type": "execute_result"
    }
   ],
   "source": [
    "distances, I = index.search(svec, k=2)\n",
    "distances"
   ]
  },
  {
   "cell_type": "code",
   "execution_count": 43,
   "metadata": {},
   "outputs": [
    {
     "data": {
      "text/plain": [
       "array([[3, 2]], dtype=int64)"
      ]
     },
     "execution_count": 43,
     "metadata": {},
     "output_type": "execute_result"
    }
   ],
   "source": [
    "I"
   ]
  },
  {
   "cell_type": "code",
   "execution_count": 45,
   "metadata": {},
   "outputs": [
    {
     "data": {
      "text/html": [
       "<div>\n",
       "<style scoped>\n",
       "    .dataframe tbody tr th:only-of-type {\n",
       "        vertical-align: middle;\n",
       "    }\n",
       "\n",
       "    .dataframe tbody tr th {\n",
       "        vertical-align: top;\n",
       "    }\n",
       "\n",
       "    .dataframe thead th {\n",
       "        text-align: right;\n",
       "    }\n",
       "</style>\n",
       "<table border=\"1\" class=\"dataframe\">\n",
       "  <thead>\n",
       "    <tr style=\"text-align: right;\">\n",
       "      <th></th>\n",
       "      <th>text</th>\n",
       "      <th>category</th>\n",
       "    </tr>\n",
       "  </thead>\n",
       "  <tbody>\n",
       "    <tr>\n",
       "      <th>3</th>\n",
       "      <td>Vibrant color jeans for male are becoming a trend</td>\n",
       "      <td>Fashion</td>\n",
       "    </tr>\n",
       "    <tr>\n",
       "      <th>2</th>\n",
       "      <td>These are the latest fashion trends for this week</td>\n",
       "      <td>Fashion</td>\n",
       "    </tr>\n",
       "  </tbody>\n",
       "</table>\n",
       "</div>"
      ],
      "text/plain": [
       "                                                text category\n",
       "3  Vibrant color jeans for male are becoming a trend  Fashion\n",
       "2  These are the latest fashion trends for this week  Fashion"
      ]
     },
     "execution_count": 45,
     "metadata": {},
     "output_type": "execute_result"
    }
   ],
   "source": [
    "df.loc[I[0]]"
   ]
  },
  {
   "cell_type": "code",
   "execution_count": 46,
   "metadata": {},
   "outputs": [
    {
     "data": {
      "text/plain": [
       "'I want to buy a polo t-shirt'"
      ]
     },
     "execution_count": 46,
     "metadata": {},
     "output_type": "execute_result"
    }
   ],
   "source": [
    "search_query"
   ]
  },
  {
   "cell_type": "markdown",
   "metadata": {},
   "source": [
    "You can see that the two results from the dataframe are similar to a search_query"
   ]
  }
 ],
 "metadata": {
  "kernelspec": {
   "display_name": "Python 3",
   "language": "python",
   "name": "python3"
  },
  "language_info": {
   "codemirror_mode": {
    "name": "ipython",
    "version": 3
   },
   "file_extension": ".py",
   "mimetype": "text/x-python",
   "name": "python",
   "nbconvert_exporter": "python",
   "pygments_lexer": "ipython3",
   "version": "3.13.1"
  }
 },
 "nbformat": 4,
 "nbformat_minor": 2
}
